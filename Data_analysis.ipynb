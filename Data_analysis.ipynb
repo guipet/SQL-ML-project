{
 "cells": [
  {
   "cell_type": "code",
   "execution_count": 2,
   "metadata": {},
   "outputs": [],
   "source": [
    "import pandas as pd\n",
    "import sqlite3\n",
    "import plotly.express as px\n",
    "import cv2"
   ]
  },
  {
   "cell_type": "markdown",
   "metadata": {},
   "source": [
    "# Connexion"
   ]
  },
  {
   "cell_type": "code",
   "execution_count": 3,
   "metadata": {},
   "outputs": [],
   "source": [
    "connexion = sqlite3.connect(\"imdb.db\")\n",
    "c = connexion.cursor()"
   ]
  },
  {
   "cell_type": "markdown",
   "metadata": {},
   "source": [
    "# Analysis\n",
    ">\n",
    "> The purpose of this notebook is to analyze the data of the database. There are several categories and we need to understand how they are distributed, how they are linked to our target - which is `grade`. \n",
    "\n",
    "## Categories"
   ]
  },
  {
   "cell_type": "code",
   "execution_count": 10,
   "metadata": {},
   "outputs": [],
   "source": [
    "query = (\"SELECT COUNT(Film.id) AS nb_films, Category.category FROM Film \"\n",
    "         \"INNER JOIN Category on Category.id == Film.category_id\"\n",
    "         \" GROUP BY Category.category;\")\n",
    "cat = pd.read_sql(query, con = connexion)\n",
    "\n",
    "fig = px.pie(cat, values='nb_films', names='category', title='Proportion of movies by category')\n",
    "fig.write_image(\"img/Proportion_of_movies_by_category.png\")"
   ]
  },
  {
   "cell_type": "markdown",
   "metadata": {},
   "source": [
    "> There are 18 categories. It could be an idea to gather in a common category the less popular movies in `Other`.\n",
    ">\n",
    "> But before, let's look at how popular they are with the public"
   ]
  },
  {
   "cell_type": "code",
   "execution_count": 11,
   "metadata": {},
   "outputs": [],
   "source": [
    "query = (\"SELECT AVG(Film.grade) AS avg_grade, Category.category FROM Film \"\n",
    "         \"INNER JOIN Category on Category.id == Film.category_id \"\n",
    "         \"GROUP BY Category.category;\")\n",
    "grade_by_cat = pd.read_sql(query, con = connexion)\n",
    "\n",
    "fig = px.bar(grade_by_cat, x = 'category', y = 'avg_grade', color='avg_grade', \n",
    "             labels={'avg_grade': 'average grade'})\n",
    "fig.write_image(\"img/category_grade.png\")"
   ]
  },
  {
   "cell_type": "markdown",
   "metadata": {},
   "source": [
    "> Among the less popular categories, we see that if we put musical and western together, it will create a bias since there is a huge gap between both of them.\n",
    ">\n",
    "> It would be tempting to bring `Music` and `Musical` together. In fact, there are only 2 of each, so it is impossible to generalize. **So, we bring the minorities together.**\n",
    "\n",
    "## Languages and countries\n",
    ">\n",
    "> How many languages there are and how they are distributed"
   ]
  },
  {
   "cell_type": "code",
   "execution_count": 8,
   "metadata": {},
   "outputs": [
    {
     "name": "stdout",
     "output_type": "stream",
     "text": [
      "There are 89 different languages\n"
     ]
    }
   ],
   "source": [
    "lang = c.execute(\"SELECT COUNT(DISTINCT(language)) FROM Film \").fetchmany()[0][0]\n",
    "\n",
    "print(f\"There are {lang} different languages\")"
   ]
  },
  {
   "cell_type": "code",
   "execution_count": 12,
   "metadata": {},
   "outputs": [],
   "source": [
    "query = \"SELECT COUNT(id) AS nb_films, language FROM Film GROUP BY language;\"\n",
    "lang = pd.read_sql_query(query, con = connexion)\n",
    "\n",
    "fig = px.pie(lang, values='nb_films', names='language', title='Proportion of movies by language')\n",
    "fig.write_image(\"img/Proportion_of_movies_by_language.png\")"
   ]
  },
  {
   "cell_type": "markdown",
   "metadata": {},
   "source": [
    "> Which the languages the least represented?"
   ]
  },
  {
   "cell_type": "code",
   "execution_count": 21,
   "metadata": {},
   "outputs": [
    {
     "data": {
      "text/html": [
       "<div>\n",
       "<style scoped>\n",
       "    .dataframe tbody tr th:only-of-type {\n",
       "        vertical-align: middle;\n",
       "    }\n",
       "\n",
       "    .dataframe tbody tr th {\n",
       "        vertical-align: top;\n",
       "    }\n",
       "\n",
       "    .dataframe thead th {\n",
       "        text-align: right;\n",
       "    }\n",
       "</style>\n",
       "<table border=\"1\" class=\"dataframe\">\n",
       "  <thead>\n",
       "    <tr style=\"text-align: right;\">\n",
       "      <th></th>\n",
       "      <th>nb_films</th>\n",
       "      <th>language</th>\n",
       "    </tr>\n",
       "  </thead>\n",
       "  <tbody>\n",
       "    <tr>\n",
       "      <th>0</th>\n",
       "      <td>1</td>\n",
       "      <td>None</td>\n",
       "    </tr>\n",
       "    <tr>\n",
       "      <th>1</th>\n",
       "      <td>1</td>\n",
       "      <td>basque country</td>\n",
       "    </tr>\n",
       "    <tr>\n",
       "      <th>2</th>\n",
       "      <td>1</td>\n",
       "      <td>country estate</td>\n",
       "    </tr>\n",
       "    <tr>\n",
       "      <th>3</th>\n",
       "      <td>1</td>\n",
       "      <td>country house</td>\n",
       "    </tr>\n",
       "    <tr>\n",
       "      <th>4</th>\n",
       "      <td>1</td>\n",
       "      <td>country music singer</td>\n",
       "    </tr>\n",
       "    <tr>\n",
       "      <th>5</th>\n",
       "      <td>1</td>\n",
       "      <td>country singer</td>\n",
       "    </tr>\n",
       "    <tr>\n",
       "      <th>6</th>\n",
       "      <td>3</td>\n",
       "      <td>cross country</td>\n",
       "    </tr>\n",
       "    <tr>\n",
       "      <th>7</th>\n",
       "      <td>1</td>\n",
       "      <td>cross country running</td>\n",
       "    </tr>\n",
       "    <tr>\n",
       "      <th>8</th>\n",
       "      <td>3</td>\n",
       "      <td>cross country trip</td>\n",
       "    </tr>\n",
       "    <tr>\n",
       "      <th>9</th>\n",
       "      <td>2</td>\n",
       "      <td>english countryside</td>\n",
       "    </tr>\n",
       "  </tbody>\n",
       "</table>\n",
       "</div>"
      ],
      "text/plain": [
       "   nb_films                language\n",
       "0         1                    None\n",
       "1         1          basque country\n",
       "2         1          country estate\n",
       "3         1           country house\n",
       "4         1    country music singer\n",
       "5         1          country singer\n",
       "6         3           cross country\n",
       "7         1   cross country running\n",
       "8         3      cross country trip\n",
       "9         2     english countryside"
      ]
     },
     "execution_count": 21,
     "metadata": {},
     "output_type": "execute_result"
    }
   ],
   "source": [
    "query = (\"SELECT COUNT(id) AS nb_films, language FROM Film\" \n",
    "         \" GROUP BY language\"\n",
    "         \" HAVING nb_films IN (1,2,3)\")\n",
    "\n",
    "pd.read_sql_query(query, con = connexion).head(10)"
   ]
  },
  {
   "cell_type": "markdown",
   "metadata": {},
   "source": [
    "> We see that there is a majority of movies in English. **The idea would be to bring them togetherg by continent or common area and get rid of movies with particular languages**.\n",
    ">\n",
    "> Let's do the same with the countries"
   ]
  },
  {
   "cell_type": "code",
   "execution_count": 11,
   "metadata": {},
   "outputs": [
    {
     "name": "stdout",
     "output_type": "stream",
     "text": [
      "There are 83 different countries\n"
     ]
    }
   ],
   "source": [
    "count = c.execute(\"SELECT COUNT(DISTINCT(country)) FROM Film \").fetchmany()[0][0]\n",
    "\n",
    "print(f\"There are {count} different countries\")"
   ]
  },
  {
   "cell_type": "code",
   "execution_count": 13,
   "metadata": {},
   "outputs": [],
   "source": [
    "query = \"SELECT COUNT(id) AS nb_films, country FROM Film GROUP BY country;\"\n",
    "lang = pd.read_sql_query(query, con = connexion)\n",
    "fig = px.pie(lang, values='nb_films', names='country', title='Proportion of movies by country')\n",
    "fig.write_image(\"img/Proportion_of_movies_by_country.png\")"
   ]
  },
  {
   "cell_type": "markdown",
   "metadata": {},
   "source": [
    "> Which country are the least represented?"
   ]
  },
  {
   "cell_type": "code",
   "execution_count": 13,
   "metadata": {},
   "outputs": [
    {
     "data": {
      "text/html": [
       "<div>\n",
       "<style scoped>\n",
       "    .dataframe tbody tr th:only-of-type {\n",
       "        vertical-align: middle;\n",
       "    }\n",
       "\n",
       "    .dataframe tbody tr th {\n",
       "        vertical-align: top;\n",
       "    }\n",
       "\n",
       "    .dataframe thead th {\n",
       "        text-align: right;\n",
       "    }\n",
       "</style>\n",
       "<table border=\"1\" class=\"dataframe\">\n",
       "  <thead>\n",
       "    <tr style=\"text-align: right;\">\n",
       "      <th></th>\n",
       "      <th>nb_films</th>\n",
       "      <th>country</th>\n",
       "    </tr>\n",
       "  </thead>\n",
       "  <tbody>\n",
       "    <tr>\n",
       "      <th>0</th>\n",
       "      <td>1</td>\n",
       "      <td>fictional language</td>\n",
       "    </tr>\n",
       "    <tr>\n",
       "      <th>1</th>\n",
       "      <td>1</td>\n",
       "      <td>foreign language</td>\n",
       "    </tr>\n",
       "    <tr>\n",
       "      <th>2</th>\n",
       "      <td>2</td>\n",
       "      <td>foreign language adaptation</td>\n",
       "    </tr>\n",
       "    <tr>\n",
       "      <th>3</th>\n",
       "      <td>1</td>\n",
       "      <td>invented language</td>\n",
       "    </tr>\n",
       "    <tr>\n",
       "      <th>4</th>\n",
       "      <td>1</td>\n",
       "      <td>language barrier</td>\n",
       "    </tr>\n",
       "    <tr>\n",
       "      <th>5</th>\n",
       "      <td>1</td>\n",
       "      <td>language lesson</td>\n",
       "    </tr>\n",
       "    <tr>\n",
       "      <th>6</th>\n",
       "      <td>1</td>\n",
       "      <td>misuse of language</td>\n",
       "    </tr>\n",
       "    <tr>\n",
       "      <th>7</th>\n",
       "      <td>1</td>\n",
       "      <td>multiple language version</td>\n",
       "    </tr>\n",
       "    <tr>\n",
       "      <th>8</th>\n",
       "      <td>1</td>\n",
       "      <td>portuguese language</td>\n",
       "    </tr>\n",
       "    <tr>\n",
       "      <th>9</th>\n",
       "      <td>1</td>\n",
       "      <td>strong language</td>\n",
       "    </tr>\n",
       "  </tbody>\n",
       "</table>\n",
       "</div>"
      ],
      "text/plain": [
       "   nb_films                       country\n",
       "0         1            fictional language\n",
       "1         1              foreign language\n",
       "2         2   foreign language adaptation\n",
       "3         1             invented language\n",
       "4         1              language barrier\n",
       "5         1               language lesson\n",
       "6         1            misuse of language\n",
       "7         1     multiple language version\n",
       "8         1           portuguese language\n",
       "9         1               strong language"
      ]
     },
     "execution_count": 13,
     "metadata": {},
     "output_type": "execute_result"
    }
   ],
   "source": [
    "query = (\"SELECT COUNT(id) AS nb_films, country FROM Film\" \n",
    "         \" GROUP BY country\"\n",
    "         \" HAVING nb_films IN (1,2,3)\")\n",
    "pd.read_sql_query(query, con = connexion).head(10)"
   ]
  },
  {
   "cell_type": "markdown",
   "metadata": {},
   "source": [
    "> **The idea is the same as for the languages**"
   ]
  },
  {
   "cell_type": "code",
   "execution_count": 14,
   "metadata": {},
   "outputs": [],
   "source": [
    "query = (\"SELECT ROUND(AVG(Film.grade),2) AS avg_grade, film.country, COUNT(Film.id) AS nb_films FROM Film \"\n",
    "         \"GROUP BY film.country \"\n",
    "         \"HAVING nb_films != 1 \"\n",
    "         \"ORDER BY avg_grade DESC \"\n",
    "         \"LIMIT 15; \")\n",
    "\n",
    "df = pd.read_sql_query(query, con = connexion)\n",
    "\n",
    "fig = px.bar(df, x = 'country', y = 'avg_grade', color='avg_grade', hover_data=['nb_films'], \n",
    "             labels={'avg_grade': 'average grade'})\n",
    "fig.write_image(\"img/country_grade.png\")"
   ]
  },
  {
   "cell_type": "markdown",
   "metadata": {},
   "source": [
    "> We notice that the most well rated movies are from the least represented countries - excepted for South Korea and Japan with respectively 75 and 131 movies. This could introduce an overfitting in the future because it is impossible to generalize properly with so few movies. \n",
    ">\n",
    "> **The idea to bring together by continent seems to help to counter the problem because it allows to get a mean, much more representative of the reality**\n",
    ">\n",
    "> Now, it is important to understand the distribution of actors and directors over the database. \n",
    "\n",
    "## Actors and directors\n",
    "\n",
    "### Actors"
   ]
  },
  {
   "cell_type": "code",
   "execution_count": 15,
   "metadata": {},
   "outputs": [],
   "source": [
    "query = (\"SELECT Actor.actor, COUNT(Film.id) AS nb_films, ROUND(AVG(Film.grade),2) as avg_grade FROM Casting \"\n",
    "         \"INNER JOIN Actor ON Casting.actor_id == Actor.id \"\n",
    "         \"INNER JOIN Film ON Film.id == Casting.id_title \"\n",
    "         \"GROUP BY Actor.actor \"\n",
    "         \"HAVING nb_films > 20 \"\n",
    "         \"ORDER BY avg_grade DESC, nb_films DESC\")\n",
    "\n",
    "df = pd.read_sql_query(query, con = connexion)\n",
    "\n",
    "fig = px.bar(df, x = 'actor', y = 'nb_films', color = 'avg_grade', labels={'nb_films': 'number of movies'})\n",
    "fig.write_image(\"img/actor_movie_grade.png\")"
   ]
  },
  {
   "cell_type": "markdown",
   "metadata": {},
   "source": [
    "> It is important to keep some names because it impacts the grade and allows to generalize as much as possible this one. The actors with the best (worst) average grade are those with only one movie to their credit as shown below."
   ]
  },
  {
   "cell_type": "code",
   "execution_count": 16,
   "metadata": {},
   "outputs": [
    {
     "data": {
      "text/html": [
       "<div>\n",
       "<style scoped>\n",
       "    .dataframe tbody tr th:only-of-type {\n",
       "        vertical-align: middle;\n",
       "    }\n",
       "\n",
       "    .dataframe tbody tr th {\n",
       "        vertical-align: top;\n",
       "    }\n",
       "\n",
       "    .dataframe thead th {\n",
       "        text-align: right;\n",
       "    }\n",
       "</style>\n",
       "<table border=\"1\" class=\"dataframe\">\n",
       "  <thead>\n",
       "    <tr style=\"text-align: right;\">\n",
       "      <th></th>\n",
       "      <th>actor</th>\n",
       "      <th>nb_films</th>\n",
       "      <th>avg_grade</th>\n",
       "    </tr>\n",
       "  </thead>\n",
       "  <tbody>\n",
       "    <tr>\n",
       "      <th>0</th>\n",
       "      <td>Tanner Buchanan</td>\n",
       "      <td>1</td>\n",
       "      <td>8.8</td>\n",
       "    </tr>\n",
       "    <tr>\n",
       "      <th>1</th>\n",
       "      <td>Kathir</td>\n",
       "      <td>1</td>\n",
       "      <td>8.7</td>\n",
       "    </tr>\n",
       "    <tr>\n",
       "      <th>2</th>\n",
       "      <td>Natasa Ninkovic</td>\n",
       "      <td>1</td>\n",
       "      <td>8.7</td>\n",
       "    </tr>\n",
       "    <tr>\n",
       "      <th>3</th>\n",
       "      <td>Alexandre Rodrigues</td>\n",
       "      <td>1</td>\n",
       "      <td>8.6</td>\n",
       "    </tr>\n",
       "    <tr>\n",
       "      <th>4</th>\n",
       "      <td>Vijay Sethupathi</td>\n",
       "      <td>1</td>\n",
       "      <td>8.6</td>\n",
       "    </tr>\n",
       "  </tbody>\n",
       "</table>\n",
       "</div>"
      ],
      "text/plain": [
       "                 actor  nb_films  avg_grade\n",
       "0      Tanner Buchanan         1        8.8\n",
       "1               Kathir         1        8.7\n",
       "2      Natasa Ninkovic         1        8.7\n",
       "3  Alexandre Rodrigues         1        8.6\n",
       "4     Vijay Sethupathi         1        8.6"
      ]
     },
     "execution_count": 16,
     "metadata": {},
     "output_type": "execute_result"
    }
   ],
   "source": [
    "query = (\"SELECT Actor.actor, COUNT(Film.id) AS nb_films, ROUND(AVG(Film.grade),2) as avg_grade FROM Casting \"\n",
    "         \"INNER JOIN Actor ON Casting.actor_id == Actor.id \"\n",
    "         \"INNER JOIN Film ON Film.id == Casting.id_title \"\n",
    "         \"GROUP BY Actor.actor \"\n",
    "         \"ORDER BY avg_grade DESC, nb_films DESC \")\n",
    "\n",
    "pd.read_sql_query(query, con = connexion).head()"
   ]
  },
  {
   "cell_type": "code",
   "execution_count": 17,
   "metadata": {},
   "outputs": [
    {
     "data": {
      "text/html": [
       "<div>\n",
       "<style scoped>\n",
       "    .dataframe tbody tr th:only-of-type {\n",
       "        vertical-align: middle;\n",
       "    }\n",
       "\n",
       "    .dataframe tbody tr th {\n",
       "        vertical-align: top;\n",
       "    }\n",
       "\n",
       "    .dataframe thead th {\n",
       "        text-align: right;\n",
       "    }\n",
       "</style>\n",
       "<table border=\"1\" class=\"dataframe\">\n",
       "  <thead>\n",
       "    <tr style=\"text-align: right;\">\n",
       "      <th></th>\n",
       "      <th>actor</th>\n",
       "      <th>nb_films</th>\n",
       "      <th>avg_grade</th>\n",
       "    </tr>\n",
       "  </thead>\n",
       "  <tbody>\n",
       "    <tr>\n",
       "      <th>0</th>\n",
       "      <td>Paris Hilton</td>\n",
       "      <td>2</td>\n",
       "      <td>1.85</td>\n",
       "    </tr>\n",
       "    <tr>\n",
       "      <th>1</th>\n",
       "      <td>Anil Kapoor</td>\n",
       "      <td>1</td>\n",
       "      <td>1.90</td>\n",
       "    </tr>\n",
       "    <tr>\n",
       "      <th>2</th>\n",
       "      <td>Carmen Electra</td>\n",
       "      <td>1</td>\n",
       "      <td>1.90</td>\n",
       "    </tr>\n",
       "    <tr>\n",
       "      <th>3</th>\n",
       "      <td>Jon Voight</td>\n",
       "      <td>1</td>\n",
       "      <td>1.90</td>\n",
       "    </tr>\n",
       "    <tr>\n",
       "      <th>4</th>\n",
       "      <td>Brian Austin Green</td>\n",
       "      <td>1</td>\n",
       "      <td>2.00</td>\n",
       "    </tr>\n",
       "  </tbody>\n",
       "</table>\n",
       "</div>"
      ],
      "text/plain": [
       "                actor  nb_films  avg_grade\n",
       "0        Paris Hilton         2       1.85\n",
       "1         Anil Kapoor         1       1.90\n",
       "2      Carmen Electra         1       1.90\n",
       "3          Jon Voight         1       1.90\n",
       "4  Brian Austin Green         1       2.00"
      ]
     },
     "execution_count": 17,
     "metadata": {},
     "output_type": "execute_result"
    }
   ],
   "source": [
    "query = (\"SELECT Actor.actor, COUNT(Film.id) AS nb_films, ROUND(AVG(Film.grade),2) as avg_grade FROM Casting \"\n",
    "         \"INNER JOIN Actor ON Casting.actor_id == Actor.id \"\n",
    "         \"INNER JOIN Film ON Film.id == Casting.id_title \"\n",
    "         \"GROUP BY Actor.actor \"\n",
    "         \"ORDER BY avg_grade ASC, nb_films DESC \")\n",
    "\n",
    "pd.read_sql_query(query, con = connexion).head()"
   ]
  },
  {
   "cell_type": "markdown",
   "metadata": {},
   "source": [
    "> Hopping to generalize as much as possible, **we will keep the name of the top 17 of well-known actors and put all the others together in a common category : `Other` - because it is impossible to generalize from them.**"
   ]
  },
  {
   "cell_type": "markdown",
   "metadata": {},
   "source": [
    "### Directors"
   ]
  },
  {
   "cell_type": "code",
   "execution_count": 16,
   "metadata": {},
   "outputs": [],
   "source": [
    "query = (\"SELECT Director.director, COUNT(Film.id) AS nb_films, ROUND(AVG(Film.grade),2) as avg_grade FROM Casting \"\n",
    "         \"INNER JOIN Director ON Casting.director_id == Director.id \"\n",
    "         \"INNER JOIN Film ON Film.id == Casting.id_title \"\n",
    "         \"GROUP BY Director.director \"\n",
    "         \"HAVING nb_films > 10 \"\n",
    "         \"ORDER BY avg_grade DESC, nb_films DESC\")\n",
    "\n",
    "df = pd.read_sql_query(query, con = connexion)\n",
    "\n",
    "fig = px.bar(df, x = 'director', y = 'nb_films', color = 'avg_grade', labels={'nb_films': 'number of movies'})\n",
    "fig.write_image(\"img/director_movie_grade.png\")"
   ]
  },
  {
   "cell_type": "code",
   "execution_count": 19,
   "metadata": {},
   "outputs": [
    {
     "data": {
      "text/html": [
       "<div>\n",
       "<style scoped>\n",
       "    .dataframe tbody tr th:only-of-type {\n",
       "        vertical-align: middle;\n",
       "    }\n",
       "\n",
       "    .dataframe tbody tr th {\n",
       "        vertical-align: top;\n",
       "    }\n",
       "\n",
       "    .dataframe thead th {\n",
       "        text-align: right;\n",
       "    }\n",
       "</style>\n",
       "<table border=\"1\" class=\"dataframe\">\n",
       "  <thead>\n",
       "    <tr style=\"text-align: right;\">\n",
       "      <th></th>\n",
       "      <th>director</th>\n",
       "      <th>nb_films</th>\n",
       "      <th>avg_grade</th>\n",
       "    </tr>\n",
       "  </thead>\n",
       "  <tbody>\n",
       "    <tr>\n",
       "      <th>0</th>\n",
       "      <td>John B. Crye</td>\n",
       "      <td>1</td>\n",
       "      <td>8.8</td>\n",
       "    </tr>\n",
       "    <tr>\n",
       "      <th>1</th>\n",
       "      <td>Mari Selvaraj</td>\n",
       "      <td>1</td>\n",
       "      <td>8.7</td>\n",
       "    </tr>\n",
       "    <tr>\n",
       "      <th>2</th>\n",
       "      <td>Predrag Antonijevic</td>\n",
       "      <td>1</td>\n",
       "      <td>8.7</td>\n",
       "    </tr>\n",
       "    <tr>\n",
       "      <th>3</th>\n",
       "      <td>C. Prem Kumar</td>\n",
       "      <td>1</td>\n",
       "      <td>8.6</td>\n",
       "    </tr>\n",
       "    <tr>\n",
       "      <th>4</th>\n",
       "      <td>Vetrimaaran</td>\n",
       "      <td>2</td>\n",
       "      <td>8.5</td>\n",
       "    </tr>\n",
       "  </tbody>\n",
       "</table>\n",
       "</div>"
      ],
      "text/plain": [
       "              director  nb_films  avg_grade\n",
       "0         John B. Crye         1        8.8\n",
       "1        Mari Selvaraj         1        8.7\n",
       "2  Predrag Antonijevic         1        8.7\n",
       "3        C. Prem Kumar         1        8.6\n",
       "4          Vetrimaaran         2        8.5"
      ]
     },
     "execution_count": 19,
     "metadata": {},
     "output_type": "execute_result"
    }
   ],
   "source": [
    "query = (\"SELECT Director.director, COUNT(Film.id) AS nb_films, ROUND(AVG(Film.grade),2) as avg_grade FROM Casting \"\n",
    "         \"INNER JOIN Director ON Casting.director_id == Director.id \"\n",
    "         \"INNER JOIN Film ON Film.id == Casting.id_title \"\n",
    "         \"GROUP BY Director.director \"\n",
    "         \"ORDER BY avg_grade DESC, nb_films DESC \")\n",
    "\n",
    "pd.read_sql_query(query, con = connexion).head()"
   ]
  },
  {
   "cell_type": "code",
   "execution_count": 20,
   "metadata": {},
   "outputs": [
    {
     "data": {
      "text/html": [
       "<div>\n",
       "<style scoped>\n",
       "    .dataframe tbody tr th:only-of-type {\n",
       "        vertical-align: middle;\n",
       "    }\n",
       "\n",
       "    .dataframe tbody tr th {\n",
       "        vertical-align: top;\n",
       "    }\n",
       "\n",
       "    .dataframe thead th {\n",
       "        text-align: right;\n",
       "    }\n",
       "</style>\n",
       "<table border=\"1\" class=\"dataframe\">\n",
       "  <thead>\n",
       "    <tr style=\"text-align: right;\">\n",
       "      <th></th>\n",
       "      <th>director</th>\n",
       "      <th>nb_films</th>\n",
       "      <th>avg_grade</th>\n",
       "    </tr>\n",
       "  </thead>\n",
       "  <tbody>\n",
       "    <tr>\n",
       "      <th>0</th>\n",
       "      <td>Darren Doane</td>\n",
       "      <td>1</td>\n",
       "      <td>1.4</td>\n",
       "    </tr>\n",
       "    <tr>\n",
       "      <th>1</th>\n",
       "      <td>Lawrence Kasanoff</td>\n",
       "      <td>1</td>\n",
       "      <td>1.5</td>\n",
       "    </tr>\n",
       "    <tr>\n",
       "      <th>2</th>\n",
       "      <td>William Heins</td>\n",
       "      <td>1</td>\n",
       "      <td>1.8</td>\n",
       "    </tr>\n",
       "    <tr>\n",
       "      <th>3</th>\n",
       "      <td>Bob Clark</td>\n",
       "      <td>1</td>\n",
       "      <td>1.9</td>\n",
       "    </tr>\n",
       "    <tr>\n",
       "      <th>4</th>\n",
       "      <td>Tom Putnam</td>\n",
       "      <td>1</td>\n",
       "      <td>1.9</td>\n",
       "    </tr>\n",
       "  </tbody>\n",
       "</table>\n",
       "</div>"
      ],
      "text/plain": [
       "            director  nb_films  avg_grade\n",
       "0       Darren Doane         1        1.4\n",
       "1  Lawrence Kasanoff         1        1.5\n",
       "2      William Heins         1        1.8\n",
       "3          Bob Clark         1        1.9\n",
       "4         Tom Putnam         1        1.9"
      ]
     },
     "execution_count": 20,
     "metadata": {},
     "output_type": "execute_result"
    }
   ],
   "source": [
    "query = (\"SELECT Director.director, COUNT(Film.id) AS nb_films, ROUND(AVG(Film.grade),2) as avg_grade FROM Casting \"\n",
    "         \"INNER JOIN Director ON Casting.director_id == Director.id \"\n",
    "         \"INNER JOIN Film ON Film.id == Casting.id_title \"\n",
    "         \"GROUP BY Director.director \"\n",
    "         \"ORDER BY avg_grade ASC, nb_films DESC \")\n",
    "\n",
    "pd.read_sql_query(query, con = connexion).head()"
   ]
  },
  {
   "cell_type": "markdown",
   "metadata": {},
   "source": [
    "> **Same observation with the directors**"
   ]
  }
 ],
 "metadata": {
  "kernelspec": {
   "display_name": "Python 3",
   "language": "python",
   "name": "python3"
  },
  "language_info": {
   "codemirror_mode": {
    "name": "ipython",
    "version": 3
   },
   "file_extension": ".py",
   "mimetype": "text/x-python",
   "name": "python",
   "nbconvert_exporter": "python",
   "pygments_lexer": "ipython3",
   "version": "3.8.5"
  }
 },
 "nbformat": 4,
 "nbformat_minor": 4
}
