{
 "cells": [
  {
   "cell_type": "markdown",
   "metadata": {},
   "source": [
    "# ML project\n",
    ">\n",
    "> This final notebook aims to use the database, create our own csv file and fit a model to predict the grade of a movie from the features. "
   ]
  },
  {
   "cell_type": "code",
   "execution_count": 1,
   "metadata": {},
   "outputs": [],
   "source": [
    "import sqlite3\n",
    "import pandas as pd\n",
    "import numpy as np\n",
    "import plotly.express as px"
   ]
  },
  {
   "cell_type": "code",
   "execution_count": 2,
   "metadata": {},
   "outputs": [
    {
     "data": {
      "text/html": [
       "<div>\n",
       "<style scoped>\n",
       "    .dataframe tbody tr th:only-of-type {\n",
       "        vertical-align: middle;\n",
       "    }\n",
       "\n",
       "    .dataframe tbody tr th {\n",
       "        vertical-align: top;\n",
       "    }\n",
       "\n",
       "    .dataframe thead th {\n",
       "        text-align: right;\n",
       "    }\n",
       "</style>\n",
       "<table border=\"1\" class=\"dataframe\">\n",
       "  <thead>\n",
       "    <tr style=\"text-align: right;\">\n",
       "      <th></th>\n",
       "      <th>grade</th>\n",
       "      <th>length</th>\n",
       "      <th>nb_vote</th>\n",
       "      <th>language</th>\n",
       "      <th>country</th>\n",
       "      <th>category</th>\n",
       "      <th>actor</th>\n",
       "      <th>director</th>\n",
       "    </tr>\n",
       "  </thead>\n",
       "  <tbody>\n",
       "    <tr>\n",
       "      <th>0</th>\n",
       "      <td>7.5</td>\n",
       "      <td>113.0</td>\n",
       "      <td>30578</td>\n",
       "      <td>English</td>\n",
       "      <td>UK</td>\n",
       "      <td>Crime</td>\n",
       "      <td>Carey Mulligan</td>\n",
       "      <td>Emerald Fennell</td>\n",
       "    </tr>\n",
       "    <tr>\n",
       "      <th>1</th>\n",
       "      <td>8.7</td>\n",
       "      <td>130.0</td>\n",
       "      <td>51863</td>\n",
       "      <td>Serbian</td>\n",
       "      <td>Serbia</td>\n",
       "      <td>Drama</td>\n",
       "      <td>Natasa Ninkovic</td>\n",
       "      <td>Predrag Antonijevic</td>\n",
       "    </tr>\n",
       "    <tr>\n",
       "      <th>2</th>\n",
       "      <td>8.1</td>\n",
       "      <td>100.0</td>\n",
       "      <td>171997</td>\n",
       "      <td>English</td>\n",
       "      <td>USA</td>\n",
       "      <td>Animation</td>\n",
       "      <td>Jamie Foxx</td>\n",
       "      <td>Pete Docter</td>\n",
       "    </tr>\n",
       "    <tr>\n",
       "      <th>3</th>\n",
       "      <td>5.7</td>\n",
       "      <td>115.0</td>\n",
       "      <td>5978</td>\n",
       "      <td>English</td>\n",
       "      <td>USA</td>\n",
       "      <td>Action</td>\n",
       "      <td>Anne Heche</td>\n",
       "      <td>Peter Facinelli</td>\n",
       "    </tr>\n",
       "    <tr>\n",
       "      <th>4</th>\n",
       "      <td>7.5</td>\n",
       "      <td>150.0</td>\n",
       "      <td>291480</td>\n",
       "      <td>English</td>\n",
       "      <td>UK</td>\n",
       "      <td>Action</td>\n",
       "      <td>John David Washington</td>\n",
       "      <td>Christopher Nolan</td>\n",
       "    </tr>\n",
       "  </tbody>\n",
       "</table>\n",
       "</div>"
      ],
      "text/plain": [
       "   grade  length  nb_vote language country   category                  actor  \\\n",
       "0    7.5   113.0    30578  English      UK      Crime         Carey Mulligan   \n",
       "1    8.7   130.0    51863  Serbian  Serbia      Drama        Natasa Ninkovic   \n",
       "2    8.1   100.0   171997  English     USA  Animation             Jamie Foxx   \n",
       "3    5.7   115.0     5978  English     USA     Action             Anne Heche   \n",
       "4    7.5   150.0   291480  English      UK     Action  John David Washington   \n",
       "\n",
       "              director  \n",
       "0      Emerald Fennell  \n",
       "1  Predrag Antonijevic  \n",
       "2          Pete Docter  \n",
       "3      Peter Facinelli  \n",
       "4    Christopher Nolan  "
      ]
     },
     "execution_count": 2,
     "metadata": {},
     "output_type": "execute_result"
    }
   ],
   "source": [
    "connexion = sqlite3.connect('imdb.db')\n",
    "c = connexion.cursor()\n",
    "\n",
    "query = (\"SELECT Film.grade , Film.length, Film.nb_vote, Film.language, Film.Country, Category.category, Actor.actor, Director.director FROM Film \"\n",
    "        \" INNER JOIN Actor ON Actor.id == Casting.actor_id \"\n",
    "        \" INNER JOIN Director ON Director.id == Casting.director_id \"\n",
    "        \" INNER JOIN Category ON Film.category_id == Category.id\"\n",
    "        \" INNER JOIN Casting ON Film.id == Casting.id_title;\")\n",
    "\n",
    "df = pd.read_sql(query, con = connexion)\n",
    "df.head()"
   ]
  },
  {
   "cell_type": "markdown",
   "metadata": {},
   "source": [
    "# Preprocessing\n",
    ">\n",
    "> This is a useful function to use for many purpose in the preprocessing"
   ]
  },
  {
   "cell_type": "code",
   "execution_count": 3,
   "metadata": {},
   "outputs": [],
   "source": [
    "def rename(x, y, other = 'Other'):\n",
    "    '''\n",
    "    Rename the actor column\n",
    "    \n",
    "    Inputs:\n",
    "    - x : pandas Series\n",
    "    - y : list, array or Index. Name of the category\n",
    "    - other : str. If the value is not in y.\n",
    "    \n",
    "    Output:\n",
    "    - the name of the new category\n",
    "    '''\n",
    "    return x if x in y else other"
   ]
  },
  {
   "cell_type": "markdown",
   "metadata": {},
   "source": [
    "> First, drop the columns with missing values"
   ]
  },
  {
   "cell_type": "code",
   "execution_count": 4,
   "metadata": {},
   "outputs": [],
   "source": [
    "df.dropna(inplace=True)"
   ]
  },
  {
   "cell_type": "markdown",
   "metadata": {},
   "source": [
    "### Deal with the categorical features.\n",
    ">\n",
    "> Let's begin with the column `actor`. We will keep the most representative actors impacting the grade of the movie and put the others in `Other`"
   ]
  },
  {
   "cell_type": "code",
   "execution_count": 5,
   "metadata": {},
   "outputs": [],
   "source": [
    "#creating the list of the most representative actors\n",
    "actors = df.groupby('actor').agg({'length': 'count' ,'grade': 'mean'}).rename(columns = {'length': 'nb_films', \n",
    "                                                                                         'grade': 'avg_grade'})\n",
    "\n",
    "actors = actors[actors.nb_films > 20].sort_values(by = ['avg_grade'], ascending = False).index\n",
    "\n",
    "\n",
    "#rename\n",
    "df.actor = df.actor.apply(rename, args = (actors,))\n"
   ]
  },
  {
   "cell_type": "markdown",
   "metadata": {},
   "source": [
    "> Let's do the same with the column `director`"
   ]
  },
  {
   "cell_type": "code",
   "execution_count": 6,
   "metadata": {},
   "outputs": [],
   "source": [
    "#creating the list of the most representative actors\n",
    "directors = df.groupby('director').agg({'length': 'count' ,'grade': 'mean'}).rename(columns = {'length': 'nb_films', \n",
    "                                                                                         'grade': 'avg_grade'})\n",
    "\n",
    "directors = directors[directors.nb_films > 10].sort_values(by = ['avg_grade'], ascending = False).index\n",
    "\n",
    "\n",
    "#rename\n",
    "df.director = df.director.apply(rename, args = (directors,))\n"
   ]
  },
  {
   "cell_type": "markdown",
   "metadata": {},
   "source": [
    "> Now, this is the most boring task : bring the countries together by continent or area, except for the 3 most popular countries :\n",
    "> - UK\n",
    "> - France\n",
    "> - USA \n",
    ">\n",
    "> **So I have decided to put Canada in Europe because it is an occidental world, same as Bahamas who was an old english colony and Isle of Man too.**"
   ]
  },
  {
   "cell_type": "code",
   "execution_count": 8,
   "metadata": {},
   "outputs": [],
   "source": [
    "#Common groups\n",
    "Europe = ['basque country', 'Turkey', 'Austria', 'Belgium', 'Bulgaria', 'Czech Republic', 'Denmark', 'Finland', \n",
    "          'Canada','Georgia', 'Germany', 'Greece', 'Hungary', 'Iceland', 'Ireland', 'Italy', 'Latvia', 'Luxembourg',\n",
    "          'Malta', 'Netherlands', 'Poland', 'Portugal', 'Romania', 'Russia', 'Serbia', 'Slovakia', 'Slovenia',\n",
    "          'Sweden', 'Switzerland', 'Ukraine', 'Bahamas', 'Norway', 'Isle Of Man', ' turkey the country', \n",
    "          ' english countryside']\n",
    "\n",
    "latin_America = ['Argentina', 'Brazil', 'Chile', 'Colombia', 'Guatemala', 'Mexico', 'Panama', 'Peru', 'Puerto Rico',\n",
    "                 'Uruguay']\n",
    "\n",
    "Oceania = ['Australia', 'Indonesia', 'New Zealand', 'Philippines']\n",
    "\n",
    "Arab_area = ['Bangladesh', 'Iran', 'Israel', 'Qatar', 'Saudi Arabia', 'United Arab Emirates', 'Lebanon']\n",
    "\n",
    "Asia = ['Cambodia', 'China', 'Hong Kong', 'India', 'Japan', 'South Korea', 'Taiwan', 'Thailand', 'Vietnam']\n",
    "\n",
    "Africa = ['Kenya', 'Mauritania', 'Somalia', 'South Africa', 'Sudan']\n",
    "\n",
    "\n",
    "#new function\n",
    "def rename_country(x):\n",
    "    '''\n",
    "    Regroup the countries by common civilizations or common geographic area\n",
    "    \n",
    "    Inputs:\n",
    "    - x: pandas Series\n",
    "    \n",
    "    Output:\n",
    "    - str defining the area\n",
    "    '''\n",
    "    if x in Europe : \n",
    "        return 'Europe'\n",
    "    \n",
    "    if x in latin_America:\n",
    "        return 'latin_America'\n",
    "    \n",
    "    if x in Oceania:\n",
    "        return 'Oceania'\n",
    "    \n",
    "    if x in Arab_area:\n",
    "        return 'Arab_area'\n",
    "    \n",
    "    if x in Asia:\n",
    "        return 'Asia'\n",
    "    \n",
    "    if x in Africa:\n",
    "        return 'Africa'\n",
    "    \n",
    "    if x in ['France', 'UK', 'USA']:\n",
    "        return x\n",
    "    \n",
    "    else:\n",
    "        return 'Other'\n",
    "    \n",
    "df.country = df.country.apply(rename_country)   "
   ]
  },
  {
   "cell_type": "markdown",
   "metadata": {},
   "source": [
    "> `language` is useless because the movies are dubbed nowadays. So I drop `language`"
   ]
  },
  {
   "cell_type": "code",
   "execution_count": 9,
   "metadata": {},
   "outputs": [],
   "source": [
    "df.drop(columns=['language'], inplace = True)"
   ]
  },
  {
   "cell_type": "markdown",
   "metadata": {},
   "source": [
    "> The last thing to do is to put the categories together"
   ]
  },
  {
   "cell_type": "code",
   "execution_count": 10,
   "metadata": {},
   "outputs": [],
   "source": [
    "cat = df.groupby('category').agg({'length': 'count', 'grade': 'mean'})\\\n",
    "                      .rename(columns={'length': 'nb_films', 'grade': 'avg_grade'})\\\n",
    "                      .sort_values(by = ['nb_films'], ascending = False)\n",
    "\n",
    "main_cat = cat.index[:8]\n",
    "\n",
    "df.category = df.category.apply(rename, args=(main_cat,))"
   ]
  },
  {
   "cell_type": "markdown",
   "metadata": {},
   "source": [
    "> Now, we categorize the columns of `Object` type."
   ]
  },
  {
   "cell_type": "code",
   "execution_count": 11,
   "metadata": {},
   "outputs": [],
   "source": [
    "dataset = pd.get_dummies(df, prefix=['', '', 'actor_', 'director_'], prefix_sep = '')"
   ]
  },
  {
   "cell_type": "markdown",
   "metadata": {},
   "source": [
    "# Model\n",
    "\n",
    "## Train"
   ]
  },
  {
   "cell_type": "code",
   "execution_count": 30,
   "metadata": {},
   "outputs": [
    {
     "data": {
      "text/plain": [
       "Pipeline(steps=[('stackingestimator-1',\n",
       "                 StackingEstimator(estimator=ElasticNetCV(l1_ratio=0.75,\n",
       "                                                          tol=0.01))),\n",
       "                ('onehotencoder',\n",
       "                 OneHotEncoder(minimum_fraction=0.25, sparse=False)),\n",
       "                ('stackingestimator-2',\n",
       "                 StackingEstimator(estimator=LassoLarsCV())),\n",
       "                ('randomforestregressor',\n",
       "                 RandomForestRegressor(max_features=0.4, min_samples_leaf=16,\n",
       "                                       min_samples_split=14))])"
      ]
     },
     "execution_count": 30,
     "metadata": {},
     "output_type": "execute_result"
    }
   ],
   "source": [
    "from sklearn.model_selection import train_test_split\n",
    "from sklearn.ensemble import RandomForestRegressor\n",
    "from sklearn.linear_model import ElasticNetCV, LassoLarsCV\n",
    "from sklearn.model_selection import train_test_split\n",
    "from sklearn.pipeline import make_pipeline, make_union\n",
    "from tpot.builtins import OneHotEncoder, StackingEstimator\n",
    "import warnings\n",
    "\n",
    "#ignore warnings\n",
    "warnings.filterwarnings(\"ignore\")\n",
    "\n",
    "# Pipeline\n",
    "pipeline = make_pipeline(\n",
    "    StackingEstimator(estimator=ElasticNetCV(l1_ratio=0.75, tol=0.01)),\n",
    "    OneHotEncoder(minimum_fraction=0.25, sparse=False, threshold=10),\n",
    "    StackingEstimator(estimator=LassoLarsCV(normalize=True)),\n",
    "    RandomForestRegressor(bootstrap=True, max_features=0.4, min_samples_leaf=16, min_samples_split=14, n_estimators=100)\n",
    ")\n",
    "#split into train/test\n",
    "X_train, X_test, y_train, y_test = train_test_split(dataset.drop(['grade'], axis = 1), dataset['grade'], \n",
    "                                                    test_size = 0.2)\n",
    "\n",
    "#fit\n",
    "pipeline.fit(X_train, y_train)"
   ]
  },
  {
   "cell_type": "markdown",
   "metadata": {},
   "source": [
    "## Test"
   ]
  },
  {
   "cell_type": "code",
   "execution_count": 31,
   "metadata": {},
   "outputs": [
    {
     "name": "stdout",
     "output_type": "stream",
     "text": [
      "The R square of the model is 0.46 for an error of 0.58\n"
     ]
    }
   ],
   "source": [
    "from sklearn.metrics import mean_squared_error\n",
    "r2 = pipeline.score(X_test, y_test)    \n",
    "rmse = mean_squared_error(y_test, pipeline.predict(X_test))\n",
    "\n",
    "print(f\"The R square of the model is {r2:.2f} for an error of {rmse:.2f}\")"
   ]
  },
  {
   "cell_type": "markdown",
   "metadata": {},
   "source": [
    "> So, for a rating from 0 to 10, having an error of 0.58 is not so bad, especially when the mean is 6 with a standard deviation of 1. But the R square is poor - only 0.46. \n",
    ">\n",
    "> Just take a look to understand more easily why our model doesn't fit as we would like. "
   ]
  },
  {
   "cell_type": "code",
   "execution_count": 33,
   "metadata": {},
   "outputs": [
    {
     "data": {
      "image/png": "[encoded data removed]",
      "text/plain": [
       "<Figure size 360x360 with 1 Axes>"
      ]
     },
     "metadata": {
      "needs_background": "light"
     },
     "output_type": "display_data"
    },
    {
     "data": {
      "image/png": "[encoded data removed]",
      "text/plain": [
       "<Figure size 360x360 with 1 Axes>"
      ]
     },
     "metadata": {
      "needs_background": "light"
     },
     "output_type": "display_data"
    },
    {
     "data": {
      "image/png": "[encoded data removed]",
      "text/plain": [
       "<Figure size 360x360 with 1 Axes>"
      ]
     },
     "metadata": {
      "needs_background": "light"
     },
     "output_type": "display_data"
    }
   ],
   "source": [
    "import seaborn as sns\n",
    "sns.displot(y_train, )\n",
    "sns.displot(y_test)\n",
    "sns.displot(pipeline.predict(X_test));"
   ]
  },
  {
   "cell_type": "markdown",
   "metadata": {},
   "source": [
    "> The main problem is that we have a tail on the train/test distribution, which impacts a lot of our model. Our model perform quite well to predict a grade over 4.5, whereas it can't predict a grade under this treshold. It could explain why our model has a poor R square."
   ]
  }
 ],
 "metadata": {
  "kernelspec": {
   "display_name": "Python 3",
   "language": "python",
   "name": "python3"
  },
  "language_info": {
   "codemirror_mode": {
    "name": "ipython",
    "version": 3
   },
   "file_extension": ".py",
   "mimetype": "text/x-python",
   "name": "python",
   "nbconvert_exporter": "python",
   "pygments_lexer": "ipython3",
   "version": "3.8.5"
  }
 },
 "nbformat": 4,
 "nbformat_minor": 4
}
